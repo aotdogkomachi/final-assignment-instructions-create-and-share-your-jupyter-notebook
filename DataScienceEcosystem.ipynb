{
 "cells": [
  {
   "cell_type": "markdown",
   "id": "64891b72-b256-43dd-822a-8652e2641f13",
   "metadata": {},
   "source": [
    "# Data Science Tools and Ecosystem"
   ]
  },
  {
   "cell_type": "markdown",
   "id": "be22c8ca-53d9-4950-bfa4-ac494b465770",
   "metadata": {},
   "source": [
    "In this notebook, Data Science Tools and Ecosystem are summarized."
   ]
  },
  {
   "cell_type": "markdown",
   "id": "55806040-32e1-4f26-b2aa-5a0cbe1ec25e",
   "metadata": {},
   "source": [
    "Some of the popular languages that Data Scientists use are:\n",
    "1. Python\n",
    "2. R\n",
    "3. SQL"
   ]
  },
  {
   "cell_type": "markdown",
   "id": "242bfece-7234-4b37-bf99-948ddfdcfb9e",
   "metadata": {},
   "source": [
    "**Objectives:**\n",
    "- Python\n",
    "- R\n",
    "- SQL\n",
    "- Julia"
   ]
  },
  {
   "cell_type": "markdown",
   "id": "6e124927-a7ca-48fa-a962-7ad59cdb77a2",
   "metadata": {},
   "source": [
    "Some of the commonly used libraries used by Data Scientists include:\n",
    "- numpy\n",
    "- pandas\n",
    "- matplotlib"
   ]
  },
  {
   "cell_type": "markdown",
   "id": "83023fa2-3dfe-4aa2-9dd0-aeb199a11991",
   "metadata": {},
   "source": [
    "| Data Science Tools |\n",
    "| :--- |\n",
    "| JupyterLb |\n",
    "| JupyterNotebook |\n",
    "| R Studio |"
   ]
  },
  {
   "cell_type": "markdown",
   "id": "56fa4743-bbb6-4e61-b9ea-26b0d46fd9d3",
   "metadata": {},
   "source": [
    "### Below are a few examples of evaluating arithmetic expressions in Python"
   ]
  },
  {
   "cell_type": "code",
   "execution_count": 1,
   "id": "ae38cb08-53f1-4a0a-a257-bae614d6d4ce",
   "metadata": {},
   "outputs": [
    {
     "data": {
      "text/plain": [
       "17"
      ]
     },
     "execution_count": 1,
     "metadata": {},
     "output_type": "execute_result"
    }
   ],
   "source": [
    "# This a simple arithmetic expression to mutiply then add integers\n",
    "(3*4)+5"
   ]
  },
  {
   "cell_type": "code",
   "execution_count": 3,
   "id": "48c6bdbd-4890-4a39-ab80-e494d82385fe",
   "metadata": {},
   "outputs": [
    {
     "name": "stdout",
     "output_type": "stream",
     "text": [
      "3.3333333333333335\n"
     ]
    }
   ],
   "source": [
    "# This will convert 200 minutes to hours by diving by 60\n",
    "minutes = 200\n",
    "hour = 60\n",
    "housrs = minutes / hour\n",
    "print(hours)"
   ]
  },
  {
   "cell_type": "markdown",
   "id": "7dcf50dd-9494-48c4-822f-729cd9e1df4d",
   "metadata": {},
   "source": [
    "## Author\n",
    "M.Ichikawa"
   ]
  },
  {
   "cell_type": "code",
   "execution_count": null,
   "id": "00795900-3734-42bb-b027-d8c7c498aa15",
   "metadata": {},
   "outputs": [],
   "source": []
  }
 ],
 "metadata": {
  "kernelspec": {
   "display_name": "Python 3 (ipykernel)",
   "language": "python",
   "name": "python3"
  },
  "language_info": {
   "codemirror_mode": {
    "name": "ipython",
    "version": 3
   },
   "file_extension": ".py",
   "mimetype": "text/x-python",
   "name": "python",
   "nbconvert_exporter": "python",
   "pygments_lexer": "ipython3",
   "version": "3.8.16"
  }
 },
 "nbformat": 4,
 "nbformat_minor": 5
}
